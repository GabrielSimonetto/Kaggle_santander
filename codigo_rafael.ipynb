{
 "cells": [
  {
   "cell_type": "markdown",
   "metadata": {
    "colab_type": "text",
    "id": "X7PPDJNZ0UwP"
   },
   "source": [
    "##1.Setup"
   ]
  },
  {
   "cell_type": "code",
   "execution_count": 0,
   "metadata": {
    "colab": {},
    "colab_type": "code",
    "id": "uucdpDsI0R9J"
   },
   "outputs": [],
   "source": [
    "import pandas as pd\n",
    "import numpy as np\n",
    "import seaborn as sns\n",
    "import matplotlib.pyplot as plt\n",
    "import json\n",
    "from dateutil import parser\n",
    "from collections import Counter\n",
    "import math\n",
    "\n",
    "from sklearn.model_selection import train_test_split\n",
    "from sklearn.ensemble import RandomForestClassifier\n",
    "from sklearn.metrics import accuracy_score, precision_score, recall_score, f1_score, roc_auc_score\n",
    "from sklearn.preprocessing import MinMaxScaler\n",
    "from sklearn.linear_model import LogisticRegression\n",
    "from sklearn.metrics import roc_curve"
   ]
  },
  {
   "cell_type": "code",
   "execution_count": 3,
   "metadata": {
    "colab": {
     "base_uri": "https://localhost:8080/",
     "height": 52
    },
    "colab_type": "code",
    "executionInfo": {
     "elapsed": 29475,
     "status": "ok",
     "timestamp": 1557844142852,
     "user": {
      "displayName": "Gabriela Gonzalez",
      "photoUrl": "https://lh6.googleusercontent.com/-D6yk3N8iLok/AAAAAAAAAAI/AAAAAAAAALI/nkCp4wJGuBw/s64/photo.jpg",
      "userId": "11510341800573523305"
     },
     "user_tz": 180
    },
    "id": "WPe6KqYn0Y4G",
    "outputId": "ac6c86d5-687f-4fc6-9e47-869aa1457e9b"
   },
   "outputs": [
    {
     "name": "stdout",
     "output_type": "stream",
     "text": [
      "\u001b[?25l\r",
      "\u001b[K     |▎                               | 10kB 16.2MB/s eta 0:00:01\r",
      "\u001b[K     |▋                               | 20kB 1.8MB/s eta 0:00:01\r",
      "\u001b[K     |█                               | 30kB 2.6MB/s eta 0:00:01\r",
      "\u001b[K     |█▎                              | 40kB 1.7MB/s eta 0:00:01\r",
      "\u001b[K     |█▋                              | 51kB 2.1MB/s eta 0:00:01\r",
      "\u001b[K     |██                              | 61kB 2.5MB/s eta 0:00:01\r",
      "\u001b[K     |██▎                             | 71kB 2.9MB/s eta 0:00:01\r",
      "\u001b[K     |██▋                             | 81kB 3.3MB/s eta 0:00:01\r",
      "\u001b[K     |███                             | 92kB 3.6MB/s eta 0:00:01\r",
      "\u001b[K     |███▎                            | 102kB 2.7MB/s eta 0:00:01\r",
      "\u001b[K     |███▋                            | 112kB 2.7MB/s eta 0:00:01\r",
      "\u001b[K     |████                            | 122kB 2.7MB/s eta 0:00:01\r",
      "\u001b[K     |████▎                           | 133kB 2.7MB/s eta 0:00:01\r",
      "\u001b[K     |████▋                           | 143kB 2.7MB/s eta 0:00:01\r",
      "\u001b[K     |█████                           | 153kB 2.7MB/s eta 0:00:01\r",
      "\u001b[K     |█████▎                          | 163kB 2.7MB/s eta 0:00:01\r",
      "\u001b[K     |█████▋                          | 174kB 2.7MB/s eta 0:00:01\r",
      "\u001b[K     |██████                          | 184kB 2.7MB/s eta 0:00:01\r",
      "\u001b[K     |██████▎                         | 194kB 2.7MB/s eta 0:00:01\r",
      "\u001b[K     |██████▋                         | 204kB 2.7MB/s eta 0:00:01\r",
      "\u001b[K     |███████                         | 215kB 2.7MB/s eta 0:00:01\r",
      "\u001b[K     |███████▎                        | 225kB 2.7MB/s eta 0:00:01\r",
      "\u001b[K     |███████▋                        | 235kB 2.7MB/s eta 0:00:01\r",
      "\u001b[K     |████████                        | 245kB 2.7MB/s eta 0:00:01\r",
      "\u001b[K     |████████▎                       | 256kB 2.7MB/s eta 0:00:01\r",
      "\u001b[K     |████████▋                       | 266kB 2.7MB/s eta 0:00:01\r",
      "\u001b[K     |█████████                       | 276kB 2.7MB/s eta 0:00:01\r",
      "\u001b[K     |█████████▎                      | 286kB 2.7MB/s eta 0:00:01\r",
      "\u001b[K     |█████████▋                      | 296kB 2.7MB/s eta 0:00:01\r",
      "\u001b[K     |██████████                      | 307kB 2.7MB/s eta 0:00:01\r",
      "\u001b[K     |██████████▎                     | 317kB 2.7MB/s eta 0:00:01\r",
      "\u001b[K     |██████████▋                     | 327kB 2.7MB/s eta 0:00:01\r",
      "\u001b[K     |███████████                     | 337kB 2.7MB/s eta 0:00:01\r",
      "\u001b[K     |███████████▎                    | 348kB 2.7MB/s eta 0:00:01\r",
      "\u001b[K     |███████████▋                    | 358kB 2.7MB/s eta 0:00:01\r",
      "\u001b[K     |████████████                    | 368kB 2.7MB/s eta 0:00:01\r",
      "\u001b[K     |████████████▎                   | 378kB 2.7MB/s eta 0:00:01\r",
      "\u001b[K     |████████████▋                   | 389kB 2.7MB/s eta 0:00:01\r",
      "\u001b[K     |█████████████                   | 399kB 2.7MB/s eta 0:00:01\r",
      "\u001b[K     |█████████████▎                  | 409kB 2.7MB/s eta 0:00:01\r",
      "\u001b[K     |█████████████▋                  | 419kB 2.7MB/s eta 0:00:01\r",
      "\u001b[K     |██████████████                  | 430kB 2.7MB/s eta 0:00:01\r",
      "\u001b[K     |██████████████▎                 | 440kB 2.7MB/s eta 0:00:01\r",
      "\u001b[K     |██████████████▋                 | 450kB 2.7MB/s eta 0:00:01\r",
      "\u001b[K     |███████████████                 | 460kB 2.7MB/s eta 0:00:01\r",
      "\u001b[K     |███████████████▎                | 471kB 2.7MB/s eta 0:00:01\r",
      "\u001b[K     |███████████████▋                | 481kB 2.7MB/s eta 0:00:01\r",
      "\u001b[K     |████████████████                | 491kB 2.7MB/s eta 0:00:01\r",
      "\u001b[K     |████████████████▎               | 501kB 2.7MB/s eta 0:00:01\r",
      "\u001b[K     |████████████████▋               | 512kB 2.7MB/s eta 0:00:01\r",
      "\u001b[K     |█████████████████               | 522kB 2.7MB/s eta 0:00:01\r",
      "\u001b[K     |█████████████████▎              | 532kB 2.7MB/s eta 0:00:01\r",
      "\u001b[K     |█████████████████▋              | 542kB 2.7MB/s eta 0:00:01\r",
      "\u001b[K     |██████████████████              | 552kB 2.7MB/s eta 0:00:01\r",
      "\u001b[K     |██████████████████▎             | 563kB 2.7MB/s eta 0:00:01\r",
      "\u001b[K     |██████████████████▋             | 573kB 2.7MB/s eta 0:00:01\r",
      "\u001b[K     |███████████████████             | 583kB 2.7MB/s eta 0:00:01\r",
      "\u001b[K     |███████████████████▎            | 593kB 2.7MB/s eta 0:00:01\r",
      "\u001b[K     |███████████████████▋            | 604kB 2.7MB/s eta 0:00:01\r",
      "\u001b[K     |████████████████████            | 614kB 2.7MB/s eta 0:00:01\r",
      "\u001b[K     |████████████████████▎           | 624kB 2.7MB/s eta 0:00:01\r",
      "\u001b[K     |████████████████████▋           | 634kB 2.7MB/s eta 0:00:01\r",
      "\u001b[K     |█████████████████████           | 645kB 2.7MB/s eta 0:00:01\r",
      "\u001b[K     |█████████████████████▎          | 655kB 2.7MB/s eta 0:00:01\r",
      "\u001b[K     |█████████████████████▋          | 665kB 2.7MB/s eta 0:00:01\r",
      "\u001b[K     |██████████████████████          | 675kB 2.7MB/s eta 0:00:01\r",
      "\u001b[K     |██████████████████████▎         | 686kB 2.7MB/s eta 0:00:01\r",
      "\u001b[K     |██████████████████████▋         | 696kB 2.7MB/s eta 0:00:01\r",
      "\u001b[K     |███████████████████████         | 706kB 2.7MB/s eta 0:00:01\r",
      "\u001b[K     |███████████████████████▎        | 716kB 2.7MB/s eta 0:00:01\r",
      "\u001b[K     |███████████████████████▋        | 727kB 2.7MB/s eta 0:00:01\r",
      "\u001b[K     |████████████████████████        | 737kB 2.7MB/s eta 0:00:01\r",
      "\u001b[K     |████████████████████████▎       | 747kB 2.7MB/s eta 0:00:01\r",
      "\u001b[K     |████████████████████████▋       | 757kB 2.7MB/s eta 0:00:01\r",
      "\u001b[K     |████████████████████████▉       | 768kB 2.7MB/s eta 0:00:01\r",
      "\u001b[K     |█████████████████████████▏      | 778kB 2.7MB/s eta 0:00:01\r",
      "\u001b[K     |█████████████████████████▌      | 788kB 2.7MB/s eta 0:00:01\r",
      "\u001b[K     |█████████████████████████▉      | 798kB 2.7MB/s eta 0:00:01\r",
      "\u001b[K     |██████████████████████████▏     | 808kB 2.7MB/s eta 0:00:01\r",
      "\u001b[K     |██████████████████████████▌     | 819kB 2.7MB/s eta 0:00:01\r",
      "\u001b[K     |██████████████████████████▉     | 829kB 2.7MB/s eta 0:00:01\r",
      "\u001b[K     |███████████████████████████▏    | 839kB 2.7MB/s eta 0:00:01\r",
      "\u001b[K     |███████████████████████████▌    | 849kB 2.7MB/s eta 0:00:01\r",
      "\u001b[K     |███████████████████████████▉    | 860kB 2.7MB/s eta 0:00:01\r",
      "\u001b[K     |████████████████████████████▏   | 870kB 2.7MB/s eta 0:00:01\r",
      "\u001b[K     |████████████████████████████▌   | 880kB 2.7MB/s eta 0:00:01\r",
      "\u001b[K     |████████████████████████████▉   | 890kB 2.7MB/s eta 0:00:01\r",
      "\u001b[K     |█████████████████████████████▏  | 901kB 2.7MB/s eta 0:00:01\r",
      "\u001b[K     |█████████████████████████████▌  | 911kB 2.7MB/s eta 0:00:01\r",
      "\u001b[K     |█████████████████████████████▉  | 921kB 2.7MB/s eta 0:00:01\r",
      "\u001b[K     |██████████████████████████████▏ | 931kB 2.7MB/s eta 0:00:01\r",
      "\u001b[K     |██████████████████████████████▌ | 942kB 2.7MB/s eta 0:00:01\r",
      "\u001b[K     |██████████████████████████████▉ | 952kB 2.7MB/s eta 0:00:01\r",
      "\u001b[K     |███████████████████████████████▏| 962kB 2.7MB/s eta 0:00:01\r",
      "\u001b[K     |███████████████████████████████▌| 972kB 2.7MB/s eta 0:00:01\r",
      "\u001b[K     |███████████████████████████████▉| 983kB 2.7MB/s eta 0:00:01\r",
      "\u001b[K     |████████████████████████████████| 993kB 2.7MB/s \n",
      "\u001b[?25h  Building wheel for PyDrive (setup.py) ... \u001b[?25l\u001b[?25hdone\n"
     ]
    }
   ],
   "source": [
    "!pip install -U -q PyDrive\n",
    "from pydrive.auth import GoogleAuth\n",
    "from pydrive.drive import GoogleDrive\n",
    "from google.colab import auth\n",
    "from oauth2client.client import GoogleCredentials\n",
    "\n",
    "# Authenticate and create the PyDrive client.\n",
    "auth.authenticate_user()\n",
    "gauth = GoogleAuth()\n",
    "gauth.credentials = GoogleCredentials.get_application_default()\n",
    "drive = GoogleDrive(gauth)"
   ]
  },
  {
   "cell_type": "code",
   "execution_count": 0,
   "metadata": {
    "colab": {},
    "colab_type": "code",
    "id": "Z8Wn7zjT0aUD"
   },
   "outputs": [],
   "source": [
    "link = 'https://drive.google.com/open?id=1OyY_y2jC6UrPz1gJLC3_Oz7ZxZECTWp9'"
   ]
  },
  {
   "cell_type": "code",
   "execution_count": 0,
   "metadata": {
    "colab": {},
    "colab_type": "code",
    "id": "U8Qaw71J0ckX"
   },
   "outputs": [],
   "source": [
    "fluff, _id = link.split('=')\n",
    "downloaded = drive.CreateFile({'id':_id}) \n",
    "downloaded.GetContentFile('situationcreated.csv')  \n",
    "df_conversation = pd.read_csv('situationcreated.csv')"
   ]
  },
  {
   "cell_type": "code",
   "execution_count": 0,
   "metadata": {
    "colab": {},
    "colab_type": "code",
    "id": "WYhmL0S70dh5"
   },
   "outputs": [],
   "source": [
    "link = 'https://drive.google.com/open?id=1CnD_08p3z9dBiOWMNheBah4gnP7XnddK'"
   ]
  },
  {
   "cell_type": "code",
   "execution_count": 0,
   "metadata": {
    "colab": {},
    "colab_type": "code",
    "id": "wxXg9Ka10eyE"
   },
   "outputs": [],
   "source": [
    "fluff, _id = link.split('=')\n",
    "downloaded = drive.CreateFile({'id':_id}) \n",
    "downloaded.GetContentFile('users.csv')  \n",
    "df_users = pd.read_csv('users.csv')"
   ]
  },
  {
   "cell_type": "code",
   "execution_count": 13,
   "metadata": {
    "colab": {
     "base_uri": "https://localhost:8080/",
     "height": 206
    },
    "colab_type": "code",
    "executionInfo": {
     "elapsed": 839,
     "status": "ok",
     "timestamp": 1557844480223,
     "user": {
      "displayName": "Gabriela Gonzalez",
      "photoUrl": "https://lh6.googleusercontent.com/-D6yk3N8iLok/AAAAAAAAAAI/AAAAAAAAALI/nkCp4wJGuBw/s64/photo.jpg",
      "userId": "11510341800573523305"
     },
     "user_tz": 180
    },
    "id": "ndcsul4vv1n-",
    "outputId": "b63b9145-2101-468f-bb2f-c1b990452d4c"
   },
   "outputs": [
    {
     "data": {
      "text/html": [
       "<div>\n",
       "<style scoped>\n",
       "    .dataframe tbody tr th:only-of-type {\n",
       "        vertical-align: middle;\n",
       "    }\n",
       "\n",
       "    .dataframe tbody tr th {\n",
       "        vertical-align: top;\n",
       "    }\n",
       "\n",
       "    .dataframe thead th {\n",
       "        text-align: right;\n",
       "    }\n",
       "</style>\n",
       "<table border=\"1\" class=\"dataframe\">\n",
       "  <thead>\n",
       "    <tr style=\"text-align: right;\">\n",
       "      <th></th>\n",
       "      <th>index</th>\n",
       "      <th>$distinct_id</th>\n",
       "      <th>age</th>\n",
       "      <th>daily_notification</th>\n",
       "      <th>gender</th>\n",
       "      <th>occupation</th>\n",
       "      <th>personality_type</th>\n",
       "    </tr>\n",
       "  </thead>\n",
       "  <tbody>\n",
       "    <tr>\n",
       "      <th>0</th>\n",
       "      <td>0</td>\n",
       "      <td>E185ACD01070418FAC3A34186C1C00B1</td>\n",
       "      <td>22</td>\n",
       "      <td>NaN</td>\n",
       "      <td>male</td>\n",
       "      <td>Student full time</td>\n",
       "      <td>ENFPT</td>\n",
       "    </tr>\n",
       "    <tr>\n",
       "      <th>1</th>\n",
       "      <td>1</td>\n",
       "      <td>2921AB4622F14F548E5285C72AD4D984</td>\n",
       "      <td>28</td>\n",
       "      <td>21:30</td>\n",
       "      <td>male</td>\n",
       "      <td>Student full time</td>\n",
       "      <td>INFPA</td>\n",
       "    </tr>\n",
       "    <tr>\n",
       "      <th>2</th>\n",
       "      <td>2</td>\n",
       "      <td>03D71DB1C8934F13B45D3724FD1A2317</td>\n",
       "      <td>44</td>\n",
       "      <td>NaN</td>\n",
       "      <td>male</td>\n",
       "      <td>Work and attend school</td>\n",
       "      <td>INTJT</td>\n",
       "    </tr>\n",
       "    <tr>\n",
       "      <th>3</th>\n",
       "      <td>3</td>\n",
       "      <td>35E2C305385B49CB8BCB338FB2C2E648</td>\n",
       "      <td>39</td>\n",
       "      <td>NaN</td>\n",
       "      <td>female</td>\n",
       "      <td>Employed full time</td>\n",
       "      <td>INTPT</td>\n",
       "    </tr>\n",
       "    <tr>\n",
       "      <th>4</th>\n",
       "      <td>4</td>\n",
       "      <td>F4D57C4A448F4F3F885B7C5722B1207D</td>\n",
       "      <td>27</td>\n",
       "      <td>12:30</td>\n",
       "      <td>male</td>\n",
       "      <td>Freelancer or work part time</td>\n",
       "      <td>INFJT</td>\n",
       "    </tr>\n",
       "  </tbody>\n",
       "</table>\n",
       "</div>"
      ],
      "text/plain": [
       "   index                      $distinct_id  age daily_notification  gender  \\\n",
       "0      0  E185ACD01070418FAC3A34186C1C00B1   22                NaN    male   \n",
       "1      1  2921AB4622F14F548E5285C72AD4D984   28              21:30    male   \n",
       "2      2  03D71DB1C8934F13B45D3724FD1A2317   44                NaN    male   \n",
       "3      3  35E2C305385B49CB8BCB338FB2C2E648   39                NaN  female   \n",
       "4      4  F4D57C4A448F4F3F885B7C5722B1207D   27              12:30    male   \n",
       "\n",
       "                     occupation personality_type  \n",
       "0             Student full time            ENFPT  \n",
       "1             Student full time            INFPA  \n",
       "2        Work and attend school            INTJT  \n",
       "3            Employed full time            INTPT  \n",
       "4  Freelancer or work part time            INFJT  "
      ]
     },
     "execution_count": 13,
     "metadata": {
      "tags": []
     },
     "output_type": "execute_result"
    }
   ],
   "source": [
    "df_users.head()"
   ]
  },
  {
   "cell_type": "markdown",
   "metadata": {
    "colab_type": "text",
    "id": "RWs5q7js0jv9"
   },
   "source": [
    "## 2. Data Prep"
   ]
  },
  {
   "cell_type": "markdown",
   "metadata": {
    "colab_type": "text",
    "id": "YvAJpdJq0rQZ"
   },
   "source": [
    "### 2.1 Function"
   ]
  },
  {
   "cell_type": "code",
   "execution_count": 0,
   "metadata": {
    "colab": {},
    "colab_type": "code",
    "id": "khcmVY6O0guw"
   },
   "outputs": [],
   "source": [
    "def try_jl(x):\n",
    "    try:\n",
    "        return json.loads(x)\n",
    "    except: #FIX ME FIND ERROR\n",
    "        return [x]\n",
    "        \n",
    "def parse_dailyreminder(x):\n",
    "    try:\n",
    "        return parser.parse(x)\n",
    "    except AttributeError:\n",
    "        return np.nan\n",
    "    except ValueError:\n",
    "        return np.nan\n",
    "        \n",
    "def hour_dailyreminder(x):\n",
    "    try:\n",
    "        return x.hour\n",
    "    except AttributeError:\n",
    "        return np.nan\n",
    "\n",
    "def hour_dailyreminder(x):\n",
    "    try:\n",
    "        return x.hour\n",
    "    except AttributeError:\n",
    "        return np.nan\n",
    "  \n",
    "def minutes_dailyreminder(x):\n",
    "  try:\n",
    "    return x.minute\n",
    "  except AttributeError:\n",
    "    return np.nan\n",
    "  \n",
    "def dailyreminder_null(x):\n",
    "  if math.isnan(x):\n",
    "    return 1\n",
    "  else:\n",
    "    return 0\n",
    "  "
   ]
  },
  {
   "cell_type": "code",
   "execution_count": 0,
   "metadata": {
    "colab": {},
    "colab_type": "code",
    "id": "ZoW-_8XH0wo7"
   },
   "outputs": [],
   "source": [
    "def preprocessing(df_conversation, df_users):\n",
    "    \n",
    "    \n",
    "    #DATA PREP CONVERSATION------------------------------\n",
    "    \n",
    "    df_conversation['timestamp_datetime'] = df_conversation['timestamp'].apply(lambda x: parser.parse(x))\n",
    "    \n",
    "    df_conversation['thinking_traps']= (df_conversation['thinking_traps']\n",
    "                                        .fillna('[]')\n",
    "                                        .apply(lambda x: x.replace(\"'\", '\"'))\n",
    "                                        .apply(json.loads)\n",
    "                                        .apply(lambda x: list(set(x))))\n",
    "    thinkintraps_expand = (df_conversation[\"thinking_traps\"]\n",
    "                           .apply(lambda x: Counter(x))\n",
    "                           .apply(pd.Series)\n",
    "                           .fillna(0)\n",
    "                           .add_prefix('thinking_traps_'))\n",
    "    df_conversation = df_conversation.join(thinkintraps_expand)\n",
    "    \n",
    "    df_conversation['factors']= (df_conversation['factors']\n",
    "                                        .fillna('[]')\n",
    "                                        .apply(lambda x: x.replace(\"'\", '\"'))\n",
    "                                        .apply(try_jl)\n",
    "                                        .apply(lambda x: list(set(x))))\n",
    "    topic_expand = (df_conversation[\"factors\"]\n",
    "                    .apply(lambda x: Counter(x))\n",
    "                    .apply(pd.Series)\n",
    "                    .fillna(0)\n",
    "                    .add_prefix('factors_'))\n",
    "    df_conversation = df_conversation.join(topic_expand)\n",
    "    \n",
    "    df_conversation['$os'] = df_conversation['$os'].replace({'iOS': 0, 'Android': 1})\n",
    "    \n",
    "    df_conversation['conversation_result'] = df_conversation['conversation_result'].replace({'Positive': 1, 'Negative': 0})\n",
    "    \n",
    "    df_conversation = pd.get_dummies(df_conversation, columns = ['emotion'])\n",
    "    \n",
    "    \n",
    "    \n",
    "    #DATA PREP USERS-----------------------------------\n",
    "    \n",
    "    df_users['datetime_dailyreminder'] = df_users['daily_notification'].apply(parse_dailyreminder)\n",
    "    \n",
    "    df_users['gender'] = df_users['gender'].replace({'male': 1, 'female': 0})\n",
    "    \n",
    "    df_users['occupation'] = df_users['occupation'].fillna('not_informed')\n",
    "    \n",
    "    df_users = pd.get_dummies(df_users, columns = ['occupation', 'personality_type'])\n",
    "    \n",
    "    #FEATURE CREATION CONVERSATION-------------------------\n",
    "    \n",
    "    df_conversation['timestamp_date'] = df_conversation['timestamp_datetime'].apply(lambda x: x.date())\n",
    "    df_conversation['timestamp_year'] = df_conversation['timestamp_datetime'].apply(lambda x: x.year)\n",
    "    df_conversation['timestamp_time'] = df_conversation['timestamp_datetime'].apply(lambda x: x.time())\n",
    "    df_conversation['timestamp_hour'] = df_conversation['timestamp_time'].apply(lambda x: x.hour)\n",
    "    df_conversation['timestamp_month'] = df_conversation['timestamp_datetime'].apply(lambda x: x.month)\n",
    "    \n",
    "    df_conversation['thinkingtraps_len'] = df_conversation['thinking_traps'].apply(lambda x: len(x))\n",
    "\n",
    "    df_conversation['topic_len'] = df_conversation['factors'].apply(lambda x: len(x))\n",
    "    \n",
    "    \n",
    "    #FEATURE CREATION USERS---------------------------------\n",
    "    df_users['hour_dailyreminder'] = df_users['datetime_dailyreminder'].apply(hour_dailyreminder)\n",
    "    df_users['minutes_dailyreminder'] = df_users['datetime_dailyreminder'].apply(minutes_dailyreminder)\n",
    "    df_users['totalminutes_dailyreminder'] = df_users['minutes_dailyreminder']+60*df_users['hour_dailyreminder']\n",
    "    df_users['dailyreminder_isnull'] = df_users['hour_dailyreminder'].apply(dailyreminder_null)\n",
    "    \n",
    "    #DROP COLS E JOIN----------------------------------\n",
    "    \n",
    "    df_conversation = df_conversation.drop(['index', 'thinking_traps', \n",
    "                                        'factors', 'timestamp_datetime', 'timestamp_date', 'timestamp_time', 'timestamp'], axis =1)\n",
    "\n",
    "    df_users = df_users.drop(['index', 'datetime_dailyreminder','daily_notification'], axis = 1)\n",
    "    \n",
    "    feature_matrix = (df_conversation.set_index('distinct_id').join(df_users.set_index('$distinct_id'), how = 'left')\n",
    "                      .dropna(subset = ['gender'])\n",
    "                      .reset_index()\n",
    "                      .drop(['index'], axis =1)\n",
    "                      .fillna(0))\n",
    "    \n",
    "    return feature_matrix"
   ]
  },
  {
   "cell_type": "markdown",
   "metadata": {
    "colab_type": "text",
    "id": "VZMWVWhe00lF"
   },
   "source": [
    "###2.2 Run"
   ]
  },
  {
   "cell_type": "code",
   "execution_count": 0,
   "metadata": {
    "colab": {},
    "colab_type": "code",
    "id": "LDeretRG0yVx"
   },
   "outputs": [],
   "source": [
    "feature_matrix = preprocessing(df_conversation, df_users)"
   ]
  },
  {
   "cell_type": "code",
   "execution_count": 0,
   "metadata": {
    "colab": {},
    "colab_type": "code",
    "id": "l67xOxs6t4ZH"
   },
   "outputs": [],
   "source": [
    "y = feature_matrix['conversation_result']\n",
    "X = feature_matrix.drop(['conversation_result'], axis =1)"
   ]
  },
  {
   "cell_type": "code",
   "execution_count": 0,
   "metadata": {
    "colab": {},
    "colab_type": "code",
    "id": "o9hlElCJt1Jz"
   },
   "outputs": [],
   "source": [
    "X_train, X_test, y_train, y_test = train_test_split(X, y, test_size=0.3, random_state=42)"
   ]
  },
  {
   "cell_type": "markdown",
   "metadata": {
    "colab_type": "text",
    "id": "9ngHnf4E080r"
   },
   "source": [
    "## 3.Model"
   ]
  },
  {
   "cell_type": "markdown",
   "metadata": {
    "colab_type": "text",
    "id": "343Dg9WDrKD1"
   },
   "source": [
    "### 3.1 Random Forest"
   ]
  },
  {
   "cell_type": "code",
   "execution_count": 0,
   "metadata": {
    "colab": {},
    "colab_type": "code",
    "id": "L9kAugUT0z7b"
   },
   "outputs": [],
   "source": [
    "clf_rf = RandomForestClassifier(n_estimators=100, random_state=0, n_jobs = -1)"
   ]
  },
  {
   "cell_type": "code",
   "execution_count": 42,
   "metadata": {
    "colab": {
     "base_uri": "https://localhost:8080/",
     "height": 121
    },
    "colab_type": "code",
    "executionInfo": {
     "elapsed": 35100,
     "status": "ok",
     "timestamp": 1557845714521,
     "user": {
      "displayName": "Gabriela Gonzalez",
      "photoUrl": "https://lh6.googleusercontent.com/-D6yk3N8iLok/AAAAAAAAAAI/AAAAAAAAALI/nkCp4wJGuBw/s64/photo.jpg",
      "userId": "11510341800573523305"
     },
     "user_tz": 180
    },
    "id": "yBbF4PidrO92",
    "outputId": "69776e20-637a-4671-f32c-14f2ce7e1809"
   },
   "outputs": [
    {
     "data": {
      "text/plain": [
       "RandomForestClassifier(bootstrap=True, class_weight=None, criterion='gini',\n",
       "            max_depth=None, max_features='auto', max_leaf_nodes=None,\n",
       "            min_impurity_decrease=0.0, min_impurity_split=None,\n",
       "            min_samples_leaf=1, min_samples_split=2,\n",
       "            min_weight_fraction_leaf=0.0, n_estimators=100, n_jobs=-1,\n",
       "            oob_score=False, random_state=0, verbose=0, warm_start=False)"
      ]
     },
     "execution_count": 42,
     "metadata": {
      "tags": []
     },
     "output_type": "execute_result"
    }
   ],
   "source": [
    "clf_rf.fit(X_train, y_train)"
   ]
  },
  {
   "cell_type": "code",
   "execution_count": 0,
   "metadata": {
    "colab": {
     "base_uri": "https://localhost:8080/",
     "height": 574
    },
    "colab_type": "code",
    "executionInfo": {
     "elapsed": 1831327,
     "status": "ok",
     "timestamp": 1557791838130,
     "user": {
      "displayName": "rafael fallgatter",
      "photoUrl": "",
      "userId": "15351949855134690981"
     },
     "user_tz": 180
    },
    "id": "aFYCiiaTzc8u",
    "outputId": "d9fea427-291d-417a-ee16-bb1db45dbb7f"
   },
   "outputs": [
    {
     "name": "stdout",
     "output_type": "stream",
     "text": [
      "Fitting 3 folds for each of 20 candidates, totalling 60 fits\n"
     ]
    },
    {
     "name": "stderr",
     "output_type": "stream",
     "text": [
      "[Parallel(n_jobs=-1)]: Using backend LokyBackend with 2 concurrent workers.\n",
      "/usr/local/lib/python3.6/dist-packages/sklearn/externals/joblib/externals/loky/process_executor.py:706: UserWarning: A worker stopped while some jobs were given to the executor. This can be caused by a too short worker timeout or by a memory leak.\n",
      "  \"timeout or by a memory leak.\", UserWarning\n",
      "/usr/local/lib/python3.6/dist-packages/sklearn/externals/joblib/externals/loky/process_executor.py:706: UserWarning: A worker stopped while some jobs were given to the executor. This can be caused by a too short worker timeout or by a memory leak.\n",
      "  \"timeout or by a memory leak.\", UserWarning\n",
      "/usr/local/lib/python3.6/dist-packages/sklearn/externals/joblib/externals/loky/process_executor.py:706: UserWarning: A worker stopped while some jobs were given to the executor. This can be caused by a too short worker timeout or by a memory leak.\n",
      "  \"timeout or by a memory leak.\", UserWarning\n",
      "/usr/local/lib/python3.6/dist-packages/sklearn/externals/joblib/externals/loky/process_executor.py:706: UserWarning: A worker stopped while some jobs were given to the executor. This can be caused by a too short worker timeout or by a memory leak.\n",
      "  \"timeout or by a memory leak.\", UserWarning\n",
      "/usr/local/lib/python3.6/dist-packages/sklearn/externals/joblib/externals/loky/process_executor.py:706: UserWarning: A worker stopped while some jobs were given to the executor. This can be caused by a too short worker timeout or by a memory leak.\n",
      "  \"timeout or by a memory leak.\", UserWarning\n",
      "/usr/local/lib/python3.6/dist-packages/sklearn/externals/joblib/externals/loky/process_executor.py:706: UserWarning: A worker stopped while some jobs were given to the executor. This can be caused by a too short worker timeout or by a memory leak.\n",
      "  \"timeout or by a memory leak.\", UserWarning\n",
      "/usr/local/lib/python3.6/dist-packages/sklearn/externals/joblib/externals/loky/process_executor.py:706: UserWarning: A worker stopped while some jobs were given to the executor. This can be caused by a too short worker timeout or by a memory leak.\n",
      "  \"timeout or by a memory leak.\", UserWarning\n",
      "/usr/local/lib/python3.6/dist-packages/sklearn/externals/joblib/externals/loky/process_executor.py:706: UserWarning: A worker stopped while some jobs were given to the executor. This can be caused by a too short worker timeout or by a memory leak.\n",
      "  \"timeout or by a memory leak.\", UserWarning\n",
      "[Parallel(n_jobs=-1)]: Done  37 tasks      | elapsed: 75.0min\n",
      "[Parallel(n_jobs=-1)]: Done  60 out of  60 | elapsed: 115.3min finished\n"
     ]
    },
    {
     "data": {
      "text/plain": [
       "RandomizedSearchCV(cv=3, error_score='raise-deprecating',\n",
       "          estimator=RandomForestClassifier(bootstrap=True, class_weight=None, criterion='gini',\n",
       "            max_depth=None, max_features='auto', max_leaf_nodes=None,\n",
       "            min_impurity_decrease=0.0, min_impurity_split=None,\n",
       "            min_samples_leaf=1, min_samples_split=2,\n",
       "            min_weight_fraction_leaf=0.0, n_estimators='warn', n_jobs=None,\n",
       "            oob_score=False, random_state=None, verbose=0,\n",
       "            warm_start=False),\n",
       "          fit_params=None, iid='warn', n_iter=20, n_jobs=-1,\n",
       "          param_distributions={'n_estimators': [50, 100, 150, 200, 250], 'max_features': ['auto', 'sqrt'], 'max_depth': [10, 20, 30, 40, 50, 60, 70, 80, 90, 100, 110, None], 'min_samples_split': [2, 5, 10], 'min_samples_leaf': [1, 2, 4], 'bootstrap': [True, False]},\n",
       "          pre_dispatch='2*n_jobs', random_state=0, refit=True,\n",
       "          return_train_score='warn', scoring=None, verbose=2)"
      ]
     },
     "execution_count": 19,
     "metadata": {
      "tags": []
     },
     "output_type": "execute_result"
    }
   ],
   "source": [
    "from sklearn.model_selection import RandomizedSearchCV\n",
    "# Number of trees in random forest\n",
    "n_estimators = [int(x) for x in np.linspace(start = 50, stop = 250, num = 5)]\n",
    "# Number of features to consider at every split\n",
    "max_features = ['auto', 'sqrt']\n",
    "# Maximum number of levels in tree\n",
    "max_depth = [int(x) for x in np.linspace(10, 110, num = 11)]\n",
    "max_depth.append(None)\n",
    "# Minimum number of samples required to split a node\n",
    "min_samples_split = [2, 5, 10]\n",
    "# Minimum number of samples required at each leaf node\n",
    "min_samples_leaf = [1, 2, 4]\n",
    "# Method of selecting samples for training each tree\n",
    "bootstrap = [True, False]\n",
    "# Create the random grid\n",
    "random_grid = {'n_estimators': n_estimators,\n",
    "               'max_features': max_features,\n",
    "               'max_depth': max_depth,\n",
    "               'min_samples_split': min_samples_split,\n",
    "               'min_samples_leaf': min_samples_leaf,\n",
    "               'bootstrap': bootstrap}\n",
    "\n",
    "# Use the random grid to search for best hyperparameters\n",
    "# First create the base model to tune\n",
    "rf = RandomForestClassifier()\n",
    "# Random search of parameters, using 3 fold cross validation, \n",
    "# search across 100 different combinations, and use all available cores\n",
    "clf_rf_opt = RandomizedSearchCV(estimator = rf, param_distributions = random_grid, n_iter = 20, cv = 3, verbose=2, random_state=0, n_jobs = -1)\n",
    "# Fit the random search model\n",
    "clf_rf_opt.fit(X_train, y_train)\n"
   ]
  },
  {
   "cell_type": "code",
   "execution_count": 0,
   "metadata": {
    "colab": {
     "base_uri": "https://localhost:8080/",
     "height": 118
    },
    "colab_type": "code",
    "executionInfo": {
     "elapsed": 779,
     "status": "ok",
     "timestamp": 1557792677053,
     "user": {
      "displayName": "rafael fallgatter",
      "photoUrl": "",
      "userId": "15351949855134690981"
     },
     "user_tz": 180
    },
    "id": "0xkcuEcVrZD7",
    "outputId": "9dc8c857-37d3-4d53-d8dd-94d0be902e65"
   },
   "outputs": [
    {
     "data": {
      "text/plain": [
       "{'bootstrap': True,\n",
       " 'max_depth': 20,\n",
       " 'max_features': 'auto',\n",
       " 'min_samples_leaf': 1,\n",
       " 'min_samples_split': 5,\n",
       " 'n_estimators': 250}"
      ]
     },
     "execution_count": 21,
     "metadata": {
      "tags": []
     },
     "output_type": "execute_result"
    }
   ],
   "source": [
    "clf_rf_opt.best_params_ #={'bootstrap': True,'max_depth': 20, 'max_features': 'auto','min_samples_leaf': 1,'min_samples_split': 5,'n_estimators': 250}"
   ]
  },
  {
   "cell_type": "code",
   "execution_count": 0,
   "metadata": {
    "colab": {},
    "colab_type": "code",
    "id": "cRxqCD2X2niS"
   },
   "outputs": [],
   "source": [
    "clf_rf = RandomForestClassifier(n_estimators=250, min_samples_split= 5, min_samples_leaf = 1,max_depth = 20, bootstrap = True, random_state=0, n_jobs = -1)"
   ]
  },
  {
   "cell_type": "code",
   "execution_count": 56,
   "metadata": {
    "colab": {
     "base_uri": "https://localhost:8080/",
     "height": 121
    },
    "colab_type": "code",
    "executionInfo": {
     "elapsed": 71270,
     "status": "ok",
     "timestamp": 1557846059546,
     "user": {
      "displayName": "Gabriela Gonzalez",
      "photoUrl": "https://lh6.googleusercontent.com/-D6yk3N8iLok/AAAAAAAAAAI/AAAAAAAAALI/nkCp4wJGuBw/s64/photo.jpg",
      "userId": "11510341800573523305"
     },
     "user_tz": 180
    },
    "id": "0h_jIjqB2zvf",
    "outputId": "b658b85b-0ed9-451d-9920-fc84d8436b48"
   },
   "outputs": [
    {
     "data": {
      "text/plain": [
       "RandomForestClassifier(bootstrap=True, class_weight=None, criterion='gini',\n",
       "            max_depth=20, max_features='auto', max_leaf_nodes=None,\n",
       "            min_impurity_decrease=0.0, min_impurity_split=None,\n",
       "            min_samples_leaf=1, min_samples_split=5,\n",
       "            min_weight_fraction_leaf=0.0, n_estimators=250, n_jobs=-1,\n",
       "            oob_score=False, random_state=0, verbose=0, warm_start=False)"
      ]
     },
     "execution_count": 56,
     "metadata": {
      "tags": []
     },
     "output_type": "execute_result"
    }
   ],
   "source": [
    "clf_rf.fit(X_train, y_train)"
   ]
  },
  {
   "cell_type": "markdown",
   "metadata": {
    "colab_type": "text",
    "id": "093dYUawrTXx"
   },
   "source": [
    "### 3.2 Logistic Regression"
   ]
  },
  {
   "cell_type": "code",
   "execution_count": 43,
   "metadata": {
    "colab": {
     "base_uri": "https://localhost:8080/",
     "height": 106
    },
    "colab_type": "code",
    "executionInfo": {
     "elapsed": 966,
     "status": "ok",
     "timestamp": 1557845724833,
     "user": {
      "displayName": "Gabriela Gonzalez",
      "photoUrl": "https://lh6.googleusercontent.com/-D6yk3N8iLok/AAAAAAAAAAI/AAAAAAAAALI/nkCp4wJGuBw/s64/photo.jpg",
      "userId": "11510341800573523305"
     },
     "user_tz": 180
    },
    "id": "yU4MAmnNt95C",
    "outputId": "a1ed8fe2-691c-4e55-89c0-c3008507ef0e"
   },
   "outputs": [
    {
     "name": "stderr",
     "output_type": "stream",
     "text": [
      "/usr/local/lib/python3.6/dist-packages/sklearn/preprocessing/data.py:334: DataConversionWarning: Data with input dtype uint8, int64, float64 were all converted to float64 by MinMaxScaler.\n",
      "  return self.partial_fit(X, y)\n",
      "/usr/local/lib/python3.6/dist-packages/sklearn/preprocessing/data.py:334: DataConversionWarning: Data with input dtype uint8, int64, float64 were all converted to float64 by MinMaxScaler.\n",
      "  return self.partial_fit(X, y)\n"
     ]
    }
   ],
   "source": [
    "scaler = MinMaxScaler()\n",
    "X_train_sc = scaler.fit_transform(X_train)\n",
    "X_test_sc = scaler.fit_transform(X_test)"
   ]
  },
  {
   "cell_type": "code",
   "execution_count": 0,
   "metadata": {
    "colab": {},
    "colab_type": "code",
    "id": "x4zMEWKLuPrd"
   },
   "outputs": [],
   "source": [
    "clf_log = LogisticRegression()"
   ]
  },
  {
   "cell_type": "code",
   "execution_count": 45,
   "metadata": {
    "colab": {
     "base_uri": "https://localhost:8080/",
     "height": 141
    },
    "colab_type": "code",
    "executionInfo": {
     "elapsed": 7107,
     "status": "ok",
     "timestamp": 1557845731655,
     "user": {
      "displayName": "Gabriela Gonzalez",
      "photoUrl": "https://lh6.googleusercontent.com/-D6yk3N8iLok/AAAAAAAAAAI/AAAAAAAAALI/nkCp4wJGuBw/s64/photo.jpg",
      "userId": "11510341800573523305"
     },
     "user_tz": 180
    },
    "id": "FSWJ-ZYJuwao",
    "outputId": "f2b3f1a2-0680-4f0e-f973-2b02bdb61c7e"
   },
   "outputs": [
    {
     "name": "stderr",
     "output_type": "stream",
     "text": [
      "/usr/local/lib/python3.6/dist-packages/sklearn/linear_model/logistic.py:433: FutureWarning: Default solver will be changed to 'lbfgs' in 0.22. Specify a solver to silence this warning.\n",
      "  FutureWarning)\n"
     ]
    },
    {
     "data": {
      "text/plain": [
       "LogisticRegression(C=1.0, class_weight=None, dual=False, fit_intercept=True,\n",
       "          intercept_scaling=1, max_iter=100, multi_class='warn',\n",
       "          n_jobs=None, penalty='l2', random_state=None, solver='warn',\n",
       "          tol=0.0001, verbose=0, warm_start=False)"
      ]
     },
     "execution_count": 45,
     "metadata": {
      "tags": []
     },
     "output_type": "execute_result"
    }
   ],
   "source": [
    "clf_log.fit(X_train_sc, y_train)"
   ]
  },
  {
   "cell_type": "markdown",
   "metadata": {
    "colab_type": "text",
    "id": "thIam5xnqR_k"
   },
   "source": [
    "## 4. Metrics"
   ]
  },
  {
   "cell_type": "markdown",
   "metadata": {
    "colab_type": "text",
    "id": "0nMpZ6CquXpn"
   },
   "source": [
    "### 4.1 Function"
   ]
  },
  {
   "cell_type": "code",
   "execution_count": 0,
   "metadata": {
    "colab": {},
    "colab_type": "code",
    "id": "fhYKPlVJqTqa"
   },
   "outputs": [],
   "source": [
    "def metrics_report(X_test, y_test, clf):\n",
    "  return {'accuracy': accuracy_score(y_test, clf.predict(X_test)), \n",
    "          'precision': precision_score(y_test, clf.predict(X_test)), \n",
    "          'recall': recall_score(y_test, clf.predict(X_test)),\n",
    "          'f1': f1_score(y_test, clf.predict(X_test)),\n",
    "          'roc_auc': roc_auc_score(y_test, clf.predict(X_test))}"
   ]
  },
  {
   "cell_type": "markdown",
   "metadata": {
    "colab_type": "text",
    "id": "naHybwFiuZ8B"
   },
   "source": [
    "### 4.2 Eval"
   ]
  },
  {
   "cell_type": "code",
   "execution_count": 48,
   "metadata": {
    "colab": {
     "base_uri": "https://localhost:8080/",
     "height": 104
    },
    "colab_type": "code",
    "executionInfo": {
     "elapsed": 9923,
     "status": "ok",
     "timestamp": 1557845766965,
     "user": {
      "displayName": "Gabriela Gonzalez",
      "photoUrl": "https://lh6.googleusercontent.com/-D6yk3N8iLok/AAAAAAAAAAI/AAAAAAAAALI/nkCp4wJGuBw/s64/photo.jpg",
      "userId": "11510341800573523305"
     },
     "user_tz": 180
    },
    "id": "wNWXOPd9udhw",
    "outputId": "d40eec9b-ebee-4725-f4a5-38d44d221253"
   },
   "outputs": [
    {
     "data": {
      "text/plain": [
       "{'accuracy': 0.7174090594961362,\n",
       " 'f1': 0.6616349047141424,\n",
       " 'precision': 0.6469376746922963,\n",
       " 'recall': 0.6770154461948992,\n",
       " 'roc_auc': 0.7111372164458787}"
      ]
     },
     "execution_count": 48,
     "metadata": {
      "tags": []
     },
     "output_type": "execute_result"
    }
   ],
   "source": [
    "metrics_rf = metrics_report(X_test, y_test, clf_rf)\n",
    "metrics_rf"
   ]
  },
  {
   "cell_type": "code",
   "execution_count": 49,
   "metadata": {
    "colab": {
     "base_uri": "https://localhost:8080/",
     "height": 458
    },
    "colab_type": "code",
    "executionInfo": {
     "elapsed": 5054,
     "status": "ok",
     "timestamp": 1557845778518,
     "user": {
      "displayName": "Gabriela Gonzalez",
      "photoUrl": "https://lh6.googleusercontent.com/-D6yk3N8iLok/AAAAAAAAAAI/AAAAAAAAALI/nkCp4wJGuBw/s64/photo.jpg",
      "userId": "11510341800573523305"
     },
     "user_tz": 180
    },
    "id": "R7fAR6oC0UBN",
    "outputId": "cdc85d1f-e14a-45b0-c642-16d0b436ba59"
   },
   "outputs": [
    {
     "data": {
      "image/png": "[encoded data removed]",
      "text/plain": [
       "<Figure size 720x504 with 1 Axes>"
      ]
     },
     "metadata": {
      "tags": []
     },
     "output_type": "display_data"
    }
   ],
   "source": [
    "logit_roc_auc = roc_auc_score(y_test, clf_rf.predict(X_test))\n",
    "fpr, tpr, thresholds = roc_curve(y_test, clf_rf.predict_proba(X_test)[:,1])\n",
    "plt.figure(figsize=(10,7))\n",
    "plt.plot(fpr, tpr, label='Randon Forest Regression (area = %0.2f)' % logit_roc_auc)\n",
    "plt.plot([0, 1], [0, 1],'r--')\n",
    "plt.xlim([0.0, 1.0])\n",
    "plt.ylim([0.0, 1.05])\n",
    "plt.xlabel('False Positive Rate')\n",
    "plt.ylabel('True Positive Rate')\n",
    "plt.title('Receiver operating characteristic')\n",
    "plt.legend(loc=\"lower right\")\n",
    "plt.savefig('RF_ROC')\n",
    "plt.show()"
   ]
  },
  {
   "cell_type": "code",
   "execution_count": 50,
   "metadata": {
    "colab": {
     "base_uri": "https://localhost:8080/",
     "height": 104
    },
    "colab_type": "code",
    "executionInfo": {
     "elapsed": 685,
     "status": "ok",
     "timestamp": 1557845782817,
     "user": {
      "displayName": "Gabriela Gonzalez",
      "photoUrl": "https://lh6.googleusercontent.com/-D6yk3N8iLok/AAAAAAAAAAI/AAAAAAAAALI/nkCp4wJGuBw/s64/photo.jpg",
      "userId": "11510341800573523305"
     },
     "user_tz": 180
    },
    "id": "oR_yNNjNvF5T",
    "outputId": "7fd2257b-0b14-4607-aaa2-ecded79d4d78"
   },
   "outputs": [
    {
     "data": {
      "text/plain": [
       "{'accuracy': 0.6602793658771544,\n",
       " 'f1': 0.5075886352598349,\n",
       " 'precision': 0.6213123281563498,\n",
       " 'recall': 0.42905526761430696,\n",
       " 'roc_auc': 0.6243776196548749}"
      ]
     },
     "execution_count": 50,
     "metadata": {
      "tags": []
     },
     "output_type": "execute_result"
    }
   ],
   "source": [
    "metrics_log = metrics_report(X_test_sc, y_test, clf_log)\n",
    "metrics_log"
   ]
  },
  {
   "cell_type": "code",
   "execution_count": 51,
   "metadata": {
    "colab": {
     "base_uri": "https://localhost:8080/",
     "height": 458
    },
    "colab_type": "code",
    "executionInfo": {
     "elapsed": 1230,
     "status": "ok",
     "timestamp": 1557845788281,
     "user": {
      "displayName": "Gabriela Gonzalez",
      "photoUrl": "https://lh6.googleusercontent.com/-D6yk3N8iLok/AAAAAAAAAAI/AAAAAAAAALI/nkCp4wJGuBw/s64/photo.jpg",
      "userId": "11510341800573523305"
     },
     "user_tz": 180
    },
    "id": "xovKBUwMzn6o",
    "outputId": "66540392-f950-4daf-a86c-ca6724c0373e"
   },
   "outputs": [
    {
     "data": {
      "image/png": "[encoded data removed]",
      "text/plain": [
       "<Figure size 720x504 with 1 Axes>"
      ]
     },
     "metadata": {
      "tags": []
     },
     "output_type": "display_data"
    }
   ],
   "source": [
    "logit_roc_auc = roc_auc_score(y_test, clf_log.predict(X_test_sc))\n",
    "fpr, tpr, thresholds = roc_curve(y_test, clf_log.predict_proba(X_test_sc)[:,1])\n",
    "plt.figure(figsize=(10,7))\n",
    "plt.plot(fpr, tpr, label='Logistic Regression (area = %0.2f)' % logit_roc_auc)\n",
    "plt.plot([0, 1], [0, 1],'r--')\n",
    "plt.xlim([0.0, 1.0])\n",
    "plt.ylim([0.0, 1.05])\n",
    "plt.xlabel('False Positive Rate')\n",
    "plt.ylabel('True Positive Rate')\n",
    "plt.title('Receiver operating characteristic')\n",
    "plt.legend(loc=\"lower right\")\n",
    "plt.savefig('Log_ROC')\n",
    "plt.show()"
   ]
  },
  {
   "cell_type": "code",
   "execution_count": 0,
   "metadata": {
    "colab": {
     "base_uri": "https://localhost:8080/",
     "height": 34
    },
    "colab_type": "code",
    "executionInfo": {
     "elapsed": 694,
     "status": "ok",
     "timestamp": 1557499481853,
     "user": {
      "displayName": "Gabriela Gonzalez",
      "photoUrl": "https://lh6.googleusercontent.com/-D6yk3N8iLok/AAAAAAAAAAI/AAAAAAAAALI/nkCp4wJGuBw/s64/photo.jpg",
      "userId": "11510341800573523305"
     },
     "user_tz": 180
    },
    "id": "7y3NMYMKM-7H",
    "outputId": "aa0ee404-8ca5-44c0-ea85-13a2bc9330ac"
   },
   "outputs": [
    {
     "data": {
      "text/plain": [
       "(372373, 127)"
      ]
     },
     "execution_count": 80,
     "metadata": {
      "tags": []
     },
     "output_type": "execute_result"
    }
   ],
   "source": [
    "feature_matrix.shape"
   ]
  },
  {
   "cell_type": "markdown",
   "metadata": {
    "colab_type": "text",
    "id": "kRtRUavZrBeT"
   },
   "source": [
    "## 5. Model Interpretation"
   ]
  },
  {
   "cell_type": "code",
   "execution_count": 52,
   "metadata": {
    "colab": {
     "base_uri": "https://localhost:8080/",
     "height": 1992
    },
    "colab_type": "code",
    "executionInfo": {
     "elapsed": 777,
     "status": "ok",
     "timestamp": 1557845803137,
     "user": {
      "displayName": "Gabriela Gonzalez",
      "photoUrl": "https://lh6.googleusercontent.com/-D6yk3N8iLok/AAAAAAAAAAI/AAAAAAAAALI/nkCp4wJGuBw/s64/photo.jpg",
      "userId": "11510341800573523305"
     },
     "user_tz": 180
    },
    "id": "saejqpUOrEDO",
    "outputId": "3633ebae-9fb5-42c0-a9b4-24e7b05508a3"
   },
   "outputs": [
    {
     "data": {
      "text/html": [
       "<div>\n",
       "<style scoped>\n",
       "    .dataframe tbody tr th:only-of-type {\n",
       "        vertical-align: middle;\n",
       "    }\n",
       "\n",
       "    .dataframe tbody tr th {\n",
       "        vertical-align: top;\n",
       "    }\n",
       "\n",
       "    .dataframe thead th {\n",
       "        text-align: right;\n",
       "    }\n",
       "</style>\n",
       "<table border=\"1\" class=\"dataframe\">\n",
       "  <thead>\n",
       "    <tr style=\"text-align: right;\">\n",
       "      <th></th>\n",
       "      <th>importance</th>\n",
       "    </tr>\n",
       "  </thead>\n",
       "  <tbody>\n",
       "    <tr>\n",
       "      <th>conversation_duration</th>\n",
       "      <td>0.193109</td>\n",
       "    </tr>\n",
       "    <tr>\n",
       "      <th>age</th>\n",
       "      <td>0.055643</td>\n",
       "    </tr>\n",
       "    <tr>\n",
       "      <th>timestamp_hour</th>\n",
       "      <td>0.055461</td>\n",
       "    </tr>\n",
       "    <tr>\n",
       "      <th>emotion_level</th>\n",
       "      <td>0.054769</td>\n",
       "    </tr>\n",
       "    <tr>\n",
       "      <th>topic_len</th>\n",
       "      <td>0.037203</td>\n",
       "    </tr>\n",
       "    <tr>\n",
       "      <th>thinkingtraps_len</th>\n",
       "      <td>0.027855</td>\n",
       "    </tr>\n",
       "    <tr>\n",
       "      <th>totalminutes_dailyreminder</th>\n",
       "      <td>0.020894</td>\n",
       "    </tr>\n",
       "    <tr>\n",
       "      <th>timestamp_month</th>\n",
       "      <td>0.020104</td>\n",
       "    </tr>\n",
       "    <tr>\n",
       "      <th>emotion_depression</th>\n",
       "      <td>0.018458</td>\n",
       "    </tr>\n",
       "    <tr>\n",
       "      <th>hour_dailyreminder</th>\n",
       "      <td>0.017081</td>\n",
       "    </tr>\n",
       "    <tr>\n",
       "      <th>$os</th>\n",
       "      <td>0.012875</td>\n",
       "    </tr>\n",
       "    <tr>\n",
       "      <th>gender</th>\n",
       "      <td>0.012116</td>\n",
       "    </tr>\n",
       "    <tr>\n",
       "      <th>minutes_dailyreminder</th>\n",
       "      <td>0.011386</td>\n",
       "    </tr>\n",
       "    <tr>\n",
       "      <th>personality_type_INFJT</th>\n",
       "      <td>0.010998</td>\n",
       "    </tr>\n",
       "    <tr>\n",
       "      <th>personality_type_INFPT</th>\n",
       "      <td>0.010782</td>\n",
       "    </tr>\n",
       "    <tr>\n",
       "      <th>emotion_tiredness</th>\n",
       "      <td>0.009771</td>\n",
       "    </tr>\n",
       "    <tr>\n",
       "      <th>factors_Bad Sleep</th>\n",
       "      <td>0.009337</td>\n",
       "    </tr>\n",
       "    <tr>\n",
       "      <th>factors_Being by myself</th>\n",
       "      <td>0.009306</td>\n",
       "    </tr>\n",
       "    <tr>\n",
       "      <th>occupation_Student full time</th>\n",
       "      <td>0.009305</td>\n",
       "    </tr>\n",
       "    <tr>\n",
       "      <th>factors_School</th>\n",
       "      <td>0.009154</td>\n",
       "    </tr>\n",
       "    <tr>\n",
       "      <th>thinking_traps_Perfectionism</th>\n",
       "      <td>0.008915</td>\n",
       "    </tr>\n",
       "    <tr>\n",
       "      <th>factors_Work</th>\n",
       "      <td>0.008710</td>\n",
       "    </tr>\n",
       "    <tr>\n",
       "      <th>factors_Family</th>\n",
       "      <td>0.008611</td>\n",
       "    </tr>\n",
       "    <tr>\n",
       "      <th>thinking_traps_Negative Glasses</th>\n",
       "      <td>0.008404</td>\n",
       "    </tr>\n",
       "    <tr>\n",
       "      <th>thinking_traps_Fortune Telling</th>\n",
       "      <td>0.008342</td>\n",
       "    </tr>\n",
       "    <tr>\n",
       "      <th>factors_Socializing</th>\n",
       "      <td>0.008246</td>\n",
       "    </tr>\n",
       "    <tr>\n",
       "      <th>factors_Partner</th>\n",
       "      <td>0.008184</td>\n",
       "    </tr>\n",
       "    <tr>\n",
       "      <th>factors_Home</th>\n",
       "      <td>0.007920</td>\n",
       "    </tr>\n",
       "    <tr>\n",
       "      <th>thinking_traps_What if Loop</th>\n",
       "      <td>0.007753</td>\n",
       "    </tr>\n",
       "    <tr>\n",
       "      <th>occupation_Employed full time</th>\n",
       "      <td>0.007666</td>\n",
       "    </tr>\n",
       "    <tr>\n",
       "      <th>...</th>\n",
       "      <td>...</td>\n",
       "    </tr>\n",
       "    <tr>\n",
       "      <th>personality_type_ISTPT</th>\n",
       "      <td>0.001815</td>\n",
       "    </tr>\n",
       "    <tr>\n",
       "      <th>personality_type_ENFPA</th>\n",
       "      <td>0.001772</td>\n",
       "    </tr>\n",
       "    <tr>\n",
       "      <th>personality_type_INTJA</th>\n",
       "      <td>0.001691</td>\n",
       "    </tr>\n",
       "    <tr>\n",
       "      <th>timestamp_year</th>\n",
       "      <td>0.001598</td>\n",
       "    </tr>\n",
       "    <tr>\n",
       "      <th>factors_Books</th>\n",
       "      <td>0.001497</td>\n",
       "    </tr>\n",
       "    <tr>\n",
       "      <th>factors_Great meal</th>\n",
       "      <td>0.001382</td>\n",
       "    </tr>\n",
       "    <tr>\n",
       "      <th>personality_type_ENTJT</th>\n",
       "      <td>0.001351</td>\n",
       "    </tr>\n",
       "    <tr>\n",
       "      <th>personality_type_ENTPT</th>\n",
       "      <td>0.001288</td>\n",
       "    </tr>\n",
       "    <tr>\n",
       "      <th>personality_type_ISTJT</th>\n",
       "      <td>0.001147</td>\n",
       "    </tr>\n",
       "    <tr>\n",
       "      <th>emotion_envy</th>\n",
       "      <td>0.001051</td>\n",
       "    </tr>\n",
       "    <tr>\n",
       "      <th>personality_type_ESFPT</th>\n",
       "      <td>0.000967</td>\n",
       "    </tr>\n",
       "    <tr>\n",
       "      <th>personality_type_INTPA</th>\n",
       "      <td>0.000878</td>\n",
       "    </tr>\n",
       "    <tr>\n",
       "      <th>factors_Meat</th>\n",
       "      <td>0.000605</td>\n",
       "    </tr>\n",
       "    <tr>\n",
       "      <th>occupation_Retired</th>\n",
       "      <td>0.000551</td>\n",
       "    </tr>\n",
       "    <tr>\n",
       "      <th>personality_type_ISFJA</th>\n",
       "      <td>0.000517</td>\n",
       "    </tr>\n",
       "    <tr>\n",
       "      <th>factors_Veggie</th>\n",
       "      <td>0.000504</td>\n",
       "    </tr>\n",
       "    <tr>\n",
       "      <th>factors_Outdoors</th>\n",
       "      <td>0.000491</td>\n",
       "    </tr>\n",
       "    <tr>\n",
       "      <th>personality_type_ENTJA</th>\n",
       "      <td>0.000490</td>\n",
       "    </tr>\n",
       "    <tr>\n",
       "      <th>factors_Sports</th>\n",
       "      <td>0.000488</td>\n",
       "    </tr>\n",
       "    <tr>\n",
       "      <th>personality_type_ESFJT</th>\n",
       "      <td>0.000486</td>\n",
       "    </tr>\n",
       "    <tr>\n",
       "      <th>personality_type_ENTPA</th>\n",
       "      <td>0.000364</td>\n",
       "    </tr>\n",
       "    <tr>\n",
       "      <th>personality_type_ISFPA</th>\n",
       "      <td>0.000355</td>\n",
       "    </tr>\n",
       "    <tr>\n",
       "      <th>personality_type_ESTPT</th>\n",
       "      <td>0.000207</td>\n",
       "    </tr>\n",
       "    <tr>\n",
       "      <th>personality_type_ISTJA</th>\n",
       "      <td>0.000169</td>\n",
       "    </tr>\n",
       "    <tr>\n",
       "      <th>personality_type_ESFPA</th>\n",
       "      <td>0.000128</td>\n",
       "    </tr>\n",
       "    <tr>\n",
       "      <th>personality_type_ISTPA</th>\n",
       "      <td>0.000122</td>\n",
       "    </tr>\n",
       "    <tr>\n",
       "      <th>personality_type_ESFJA</th>\n",
       "      <td>0.000121</td>\n",
       "    </tr>\n",
       "    <tr>\n",
       "      <th>personality_type_ESTJT</th>\n",
       "      <td>0.000105</td>\n",
       "    </tr>\n",
       "    <tr>\n",
       "      <th>personality_type_ESTPA</th>\n",
       "      <td>0.000052</td>\n",
       "    </tr>\n",
       "    <tr>\n",
       "      <th>personality_type_ESTJA</th>\n",
       "      <td>0.000042</td>\n",
       "    </tr>\n",
       "  </tbody>\n",
       "</table>\n",
       "<p>125 rows × 1 columns</p>\n",
       "</div>"
      ],
      "text/plain": [
       "                                 importance\n",
       "conversation_duration              0.193109\n",
       "age                                0.055643\n",
       "timestamp_hour                     0.055461\n",
       "emotion_level                      0.054769\n",
       "topic_len                          0.037203\n",
       "thinkingtraps_len                  0.027855\n",
       "totalminutes_dailyreminder         0.020894\n",
       "timestamp_month                    0.020104\n",
       "emotion_depression                 0.018458\n",
       "hour_dailyreminder                 0.017081\n",
       "$os                                0.012875\n",
       "gender                             0.012116\n",
       "minutes_dailyreminder              0.011386\n",
       "personality_type_INFJT             0.010998\n",
       "personality_type_INFPT             0.010782\n",
       "emotion_tiredness                  0.009771\n",
       "factors_Bad Sleep                  0.009337\n",
       "factors_Being by myself            0.009306\n",
       "occupation_Student full time       0.009305\n",
       "factors_School                     0.009154\n",
       "thinking_traps_Perfectionism       0.008915\n",
       "factors_Work                       0.008710\n",
       "factors_Family                     0.008611\n",
       "thinking_traps_Negative Glasses    0.008404\n",
       "thinking_traps_Fortune Telling     0.008342\n",
       "factors_Socializing                0.008246\n",
       "factors_Partner                    0.008184\n",
       "factors_Home                       0.007920\n",
       "thinking_traps_What if Loop        0.007753\n",
       "occupation_Employed full time      0.007666\n",
       "...                                     ...\n",
       "personality_type_ISTPT             0.001815\n",
       "personality_type_ENFPA             0.001772\n",
       "personality_type_INTJA             0.001691\n",
       "timestamp_year                     0.001598\n",
       "factors_Books                      0.001497\n",
       "factors_Great meal                 0.001382\n",
       "personality_type_ENTJT             0.001351\n",
       "personality_type_ENTPT             0.001288\n",
       "personality_type_ISTJT             0.001147\n",
       "emotion_envy                       0.001051\n",
       "personality_type_ESFPT             0.000967\n",
       "personality_type_INTPA             0.000878\n",
       "factors_Meat                       0.000605\n",
       "occupation_Retired                 0.000551\n",
       "personality_type_ISFJA             0.000517\n",
       "factors_Veggie                     0.000504\n",
       "factors_Outdoors                   0.000491\n",
       "personality_type_ENTJA             0.000490\n",
       "factors_Sports                     0.000488\n",
       "personality_type_ESFJT             0.000486\n",
       "personality_type_ENTPA             0.000364\n",
       "personality_type_ISFPA             0.000355\n",
       "personality_type_ESTPT             0.000207\n",
       "personality_type_ISTJA             0.000169\n",
       "personality_type_ESFPA             0.000128\n",
       "personality_type_ISTPA             0.000122\n",
       "personality_type_ESFJA             0.000121\n",
       "personality_type_ESTJT             0.000105\n",
       "personality_type_ESTPA             0.000052\n",
       "personality_type_ESTJA             0.000042\n",
       "\n",
       "[125 rows x 1 columns]"
      ]
     },
     "execution_count": 52,
     "metadata": {
      "tags": []
     },
     "output_type": "execute_result"
    }
   ],
   "source": [
    "feature_importances = pd.DataFrame(clf_rf.feature_importances_,\n",
    "                                   index = X_train.columns,\n",
    "                                    columns=['importance']).sort_values('importance',ascending=False)\n",
    "feature_importances"
   ]
  },
  {
   "cell_type": "code",
   "execution_count": 0,
   "metadata": {
    "colab": {},
    "colab_type": "code",
    "id": "4qcPiQQ1vfJc"
   },
   "outputs": [],
   "source": [
    "logreg_weights = pd.DataFrame(clf_log.coef_.T, index = list(X.columns), columns = ['weight'])"
   ]
  },
  {
   "cell_type": "code",
   "execution_count": 54,
   "metadata": {
    "colab": {
     "base_uri": "https://localhost:8080/",
     "height": 1992
    },
    "colab_type": "code",
    "executionInfo": {
     "elapsed": 719,
     "status": "ok",
     "timestamp": 1557845835444,
     "user": {
      "displayName": "Gabriela Gonzalez",
      "photoUrl": "https://lh6.googleusercontent.com/-D6yk3N8iLok/AAAAAAAAAAI/AAAAAAAAALI/nkCp4wJGuBw/s64/photo.jpg",
      "userId": "11510341800573523305"
     },
     "user_tz": 180
    },
    "id": "x-9_tWz_xXjI",
    "outputId": "7c2ddaf6-6b8d-4ef8-edf9-a6e6e442be5d"
   },
   "outputs": [
    {
     "data": {
      "text/html": [
       "<div>\n",
       "<style scoped>\n",
       "    .dataframe tbody tr th:only-of-type {\n",
       "        vertical-align: middle;\n",
       "    }\n",
       "\n",
       "    .dataframe tbody tr th {\n",
       "        vertical-align: top;\n",
       "    }\n",
       "\n",
       "    .dataframe thead th {\n",
       "        text-align: right;\n",
       "    }\n",
       "</style>\n",
       "<table border=\"1\" class=\"dataframe\">\n",
       "  <thead>\n",
       "    <tr style=\"text-align: right;\">\n",
       "      <th></th>\n",
       "      <th>weight</th>\n",
       "    </tr>\n",
       "  </thead>\n",
       "  <tbody>\n",
       "    <tr>\n",
       "      <th>emotion_boredom</th>\n",
       "      <td>0.740584</td>\n",
       "    </tr>\n",
       "    <tr>\n",
       "      <th>conversation_duration</th>\n",
       "      <td>0.570111</td>\n",
       "    </tr>\n",
       "    <tr>\n",
       "      <th>emotion_tiredness</th>\n",
       "      <td>0.470183</td>\n",
       "    </tr>\n",
       "    <tr>\n",
       "      <th>age</th>\n",
       "      <td>0.453578</td>\n",
       "    </tr>\n",
       "    <tr>\n",
       "      <th>emotion_insecurity</th>\n",
       "      <td>0.292815</td>\n",
       "    </tr>\n",
       "    <tr>\n",
       "      <th>emotion_numbness</th>\n",
       "      <td>0.283585</td>\n",
       "    </tr>\n",
       "    <tr>\n",
       "      <th>occupation_Homemaker</th>\n",
       "      <td>0.276059</td>\n",
       "    </tr>\n",
       "    <tr>\n",
       "      <th>personality_type_ESTJA</th>\n",
       "      <td>0.261091</td>\n",
       "    </tr>\n",
       "    <tr>\n",
       "      <th>thinking_traps_Negative Glasses</th>\n",
       "      <td>0.259159</td>\n",
       "    </tr>\n",
       "    <tr>\n",
       "      <th>emotion_stress</th>\n",
       "      <td>0.245080</td>\n",
       "    </tr>\n",
       "    <tr>\n",
       "      <th>emotion_anxiety</th>\n",
       "      <td>0.233263</td>\n",
       "    </tr>\n",
       "    <tr>\n",
       "      <th>thinking_traps_What if Loop</th>\n",
       "      <td>0.218935</td>\n",
       "    </tr>\n",
       "    <tr>\n",
       "      <th>thinking_traps_Perfectionism</th>\n",
       "      <td>0.216213</td>\n",
       "    </tr>\n",
       "    <tr>\n",
       "      <th>factors_Social Media</th>\n",
       "      <td>0.202592</td>\n",
       "    </tr>\n",
       "    <tr>\n",
       "      <th>factors_Good Sleep</th>\n",
       "      <td>0.202480</td>\n",
       "    </tr>\n",
       "    <tr>\n",
       "      <th>occupation_Freelancer or work part time</th>\n",
       "      <td>0.179819</td>\n",
       "    </tr>\n",
       "    <tr>\n",
       "      <th>emotion_frustration</th>\n",
       "      <td>0.174640</td>\n",
       "    </tr>\n",
       "    <tr>\n",
       "      <th>factors_Travel</th>\n",
       "      <td>0.171318</td>\n",
       "    </tr>\n",
       "    <tr>\n",
       "      <th>factors_Exercise</th>\n",
       "      <td>0.169233</td>\n",
       "    </tr>\n",
       "    <tr>\n",
       "      <th>occupation_Retired</th>\n",
       "      <td>0.166689</td>\n",
       "    </tr>\n",
       "    <tr>\n",
       "      <th>factors_Pre period</th>\n",
       "      <td>0.162805</td>\n",
       "    </tr>\n",
       "    <tr>\n",
       "      <th>factors_Marijuana</th>\n",
       "      <td>0.149284</td>\n",
       "    </tr>\n",
       "    <tr>\n",
       "      <th>occupation_Employed full time</th>\n",
       "      <td>0.143950</td>\n",
       "    </tr>\n",
       "    <tr>\n",
       "      <th>thinking_traps_Should Thinking</th>\n",
       "      <td>0.138011</td>\n",
       "    </tr>\n",
       "    <tr>\n",
       "      <th>thinking_traps_Mind Reading</th>\n",
       "      <td>0.132604</td>\n",
       "    </tr>\n",
       "    <tr>\n",
       "      <th>occupation_not_informed</th>\n",
       "      <td>0.130095</td>\n",
       "    </tr>\n",
       "    <tr>\n",
       "      <th>factors_Books</th>\n",
       "      <td>0.126039</td>\n",
       "    </tr>\n",
       "    <tr>\n",
       "      <th>thinking_traps_Fortune Telling</th>\n",
       "      <td>0.123948</td>\n",
       "    </tr>\n",
       "    <tr>\n",
       "      <th>factors_Work</th>\n",
       "      <td>0.116410</td>\n",
       "    </tr>\n",
       "    <tr>\n",
       "      <th>thinking_traps_Not Accepting</th>\n",
       "      <td>0.116289</td>\n",
       "    </tr>\n",
       "    <tr>\n",
       "      <th>...</th>\n",
       "      <td>...</td>\n",
       "    </tr>\n",
       "    <tr>\n",
       "      <th>emotion_sadness</th>\n",
       "      <td>-0.306191</td>\n",
       "    </tr>\n",
       "    <tr>\n",
       "      <th>dailyreminder_isnull</th>\n",
       "      <td>-0.320312</td>\n",
       "    </tr>\n",
       "    <tr>\n",
       "      <th>personality_type_ENFJT</th>\n",
       "      <td>-0.327035</td>\n",
       "    </tr>\n",
       "    <tr>\n",
       "      <th>personality_type_ESTPT</th>\n",
       "      <td>-0.335661</td>\n",
       "    </tr>\n",
       "    <tr>\n",
       "      <th>personality_type_ESTPA</th>\n",
       "      <td>-0.358900</td>\n",
       "    </tr>\n",
       "    <tr>\n",
       "      <th>personality_type_ISFJA</th>\n",
       "      <td>-0.402403</td>\n",
       "    </tr>\n",
       "    <tr>\n",
       "      <th>personality_type_ISFPA</th>\n",
       "      <td>-0.419081</td>\n",
       "    </tr>\n",
       "    <tr>\n",
       "      <th>personality_type_ESFPA</th>\n",
       "      <td>-0.420497</td>\n",
       "    </tr>\n",
       "    <tr>\n",
       "      <th>personality_type_ENFPT</th>\n",
       "      <td>-0.442525</td>\n",
       "    </tr>\n",
       "    <tr>\n",
       "      <th>personality_type_INTJA</th>\n",
       "      <td>-0.461732</td>\n",
       "    </tr>\n",
       "    <tr>\n",
       "      <th>personality_type_INFPA</th>\n",
       "      <td>-0.492086</td>\n",
       "    </tr>\n",
       "    <tr>\n",
       "      <th>personality_type_ENTPT</th>\n",
       "      <td>-0.498906</td>\n",
       "    </tr>\n",
       "    <tr>\n",
       "      <th>personality_type_ESFPT</th>\n",
       "      <td>-0.510563</td>\n",
       "    </tr>\n",
       "    <tr>\n",
       "      <th>personality_type_ENTJT</th>\n",
       "      <td>-0.555939</td>\n",
       "    </tr>\n",
       "    <tr>\n",
       "      <th>personality_type_INFPT</th>\n",
       "      <td>-0.613476</td>\n",
       "    </tr>\n",
       "    <tr>\n",
       "      <th>personality_type_INFJT</th>\n",
       "      <td>-0.628521</td>\n",
       "    </tr>\n",
       "    <tr>\n",
       "      <th>personality_type_ISTJA</th>\n",
       "      <td>-0.643722</td>\n",
       "    </tr>\n",
       "    <tr>\n",
       "      <th>timestamp_year</th>\n",
       "      <td>-0.645535</td>\n",
       "    </tr>\n",
       "    <tr>\n",
       "      <th>personality_type_ESFJT</th>\n",
       "      <td>-0.650829</td>\n",
       "    </tr>\n",
       "    <tr>\n",
       "      <th>personality_type_INTJT</th>\n",
       "      <td>-0.651766</td>\n",
       "    </tr>\n",
       "    <tr>\n",
       "      <th>personality_type_ISFJT</th>\n",
       "      <td>-0.694429</td>\n",
       "    </tr>\n",
       "    <tr>\n",
       "      <th>personality_type_ISFPT</th>\n",
       "      <td>-0.713754</td>\n",
       "    </tr>\n",
       "    <tr>\n",
       "      <th>timestamp_month</th>\n",
       "      <td>-0.717092</td>\n",
       "    </tr>\n",
       "    <tr>\n",
       "      <th>personality_type_ESTJT</th>\n",
       "      <td>-0.723905</td>\n",
       "    </tr>\n",
       "    <tr>\n",
       "      <th>personality_type_INTPT</th>\n",
       "      <td>-0.794197</td>\n",
       "    </tr>\n",
       "    <tr>\n",
       "      <th>emotion_level</th>\n",
       "      <td>-0.802540</td>\n",
       "    </tr>\n",
       "    <tr>\n",
       "      <th>personality_type_INTPA</th>\n",
       "      <td>-0.819625</td>\n",
       "    </tr>\n",
       "    <tr>\n",
       "      <th>personality_type_ISTPT</th>\n",
       "      <td>-0.924793</td>\n",
       "    </tr>\n",
       "    <tr>\n",
       "      <th>emotion_depression</th>\n",
       "      <td>-0.966789</td>\n",
       "    </tr>\n",
       "    <tr>\n",
       "      <th>personality_type_ISTJT</th>\n",
       "      <td>-1.004190</td>\n",
       "    </tr>\n",
       "  </tbody>\n",
       "</table>\n",
       "<p>125 rows × 1 columns</p>\n",
       "</div>"
      ],
      "text/plain": [
       "                                           weight\n",
       "emotion_boredom                          0.740584\n",
       "conversation_duration                    0.570111\n",
       "emotion_tiredness                        0.470183\n",
       "age                                      0.453578\n",
       "emotion_insecurity                       0.292815\n",
       "emotion_numbness                         0.283585\n",
       "occupation_Homemaker                     0.276059\n",
       "personality_type_ESTJA                   0.261091\n",
       "thinking_traps_Negative Glasses          0.259159\n",
       "emotion_stress                           0.245080\n",
       "emotion_anxiety                          0.233263\n",
       "thinking_traps_What if Loop              0.218935\n",
       "thinking_traps_Perfectionism             0.216213\n",
       "factors_Social Media                     0.202592\n",
       "factors_Good Sleep                       0.202480\n",
       "occupation_Freelancer or work part time  0.179819\n",
       "emotion_frustration                      0.174640\n",
       "factors_Travel                           0.171318\n",
       "factors_Exercise                         0.169233\n",
       "occupation_Retired                       0.166689\n",
       "factors_Pre period                       0.162805\n",
       "factors_Marijuana                        0.149284\n",
       "occupation_Employed full time            0.143950\n",
       "thinking_traps_Should Thinking           0.138011\n",
       "thinking_traps_Mind Reading              0.132604\n",
       "occupation_not_informed                  0.130095\n",
       "factors_Books                            0.126039\n",
       "thinking_traps_Fortune Telling           0.123948\n",
       "factors_Work                             0.116410\n",
       "thinking_traps_Not Accepting             0.116289\n",
       "...                                           ...\n",
       "emotion_sadness                         -0.306191\n",
       "dailyreminder_isnull                    -0.320312\n",
       "personality_type_ENFJT                  -0.327035\n",
       "personality_type_ESTPT                  -0.335661\n",
       "personality_type_ESTPA                  -0.358900\n",
       "personality_type_ISFJA                  -0.402403\n",
       "personality_type_ISFPA                  -0.419081\n",
       "personality_type_ESFPA                  -0.420497\n",
       "personality_type_ENFPT                  -0.442525\n",
       "personality_type_INTJA                  -0.461732\n",
       "personality_type_INFPA                  -0.492086\n",
       "personality_type_ENTPT                  -0.498906\n",
       "personality_type_ESFPT                  -0.510563\n",
       "personality_type_ENTJT                  -0.555939\n",
       "personality_type_INFPT                  -0.613476\n",
       "personality_type_INFJT                  -0.628521\n",
       "personality_type_ISTJA                  -0.643722\n",
       "timestamp_year                          -0.645535\n",
       "personality_type_ESFJT                  -0.650829\n",
       "personality_type_INTJT                  -0.651766\n",
       "personality_type_ISFJT                  -0.694429\n",
       "personality_type_ISFPT                  -0.713754\n",
       "timestamp_month                         -0.717092\n",
       "personality_type_ESTJT                  -0.723905\n",
       "personality_type_INTPT                  -0.794197\n",
       "emotion_level                           -0.802540\n",
       "personality_type_INTPA                  -0.819625\n",
       "personality_type_ISTPT                  -0.924793\n",
       "emotion_depression                      -0.966789\n",
       "personality_type_ISTJT                  -1.004190\n",
       "\n",
       "[125 rows x 1 columns]"
      ]
     },
     "execution_count": 54,
     "metadata": {
      "tags": []
     },
     "output_type": "execute_result"
    }
   ],
   "source": [
    "logreg_weights.sort_values('weight', ascending = False)"
   ]
  },
  {
   "cell_type": "code",
   "execution_count": 0,
   "metadata": {
    "colab": {
     "base_uri": "https://localhost:8080/",
     "height": 34
    },
    "colab_type": "code",
    "executionInfo": {
     "elapsed": 761,
     "status": "ok",
     "timestamp": 1557492294287,
     "user": {
      "displayName": "Gabriela Gonzalez",
      "photoUrl": "https://lh6.googleusercontent.com/-D6yk3N8iLok/AAAAAAAAAAI/AAAAAAAAALI/nkCp4wJGuBw/s64/photo.jpg",
      "userId": "11510341800573523305"
     },
     "user_tz": 180
    },
    "id": "SICcsdNaxgEv",
    "outputId": "2f251082-faf3-4b3b-a86d-ec76ea04894b"
   },
   "outputs": [
    {
     "data": {
      "text/plain": [
       "(126,)"
      ]
     },
     "execution_count": 54,
     "metadata": {
      "tags": []
     },
     "output_type": "execute_result"
    }
   ],
   "source": [
    "X.columns.shape"
   ]
  },
  {
   "cell_type": "code",
   "execution_count": 0,
   "metadata": {
    "colab": {},
    "colab_type": "code",
    "id": "efEYK4L8yzJ6"
   },
   "outputs": [],
   "source": []
  }
 ],
 "metadata": {
  "colab": {
   "name": "yc_c1_c2.ipynb",
   "provenance": [],
   "version": "0.3.2"
  },
  "kernelspec": {
   "display_name": "Python 3",
   "language": "python",
   "name": "python3"
  },
  "language_info": {
   "codemirror_mode": {
    "name": "ipython",
    "version": 3
   },
   "file_extension": ".py",
   "mimetype": "text/x-python",
   "name": "python",
   "nbconvert_exporter": "python",
   "pygments_lexer": "ipython3",
   "version": "3.7.3"
  }
 },
 "nbformat": 4,
 "nbformat_minor": 1
}
